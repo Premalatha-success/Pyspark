{
  "nbformat": 4,
  "nbformat_minor": 0,
  "metadata": {
    "colab": {
      "provenance": []
    },
    "kernelspec": {
      "name": "python3",
      "display_name": "Python 3"
    },
    "language_info": {
      "name": "python"
    }
  },
  "cells": [
    {
      "cell_type": "code",
      "execution_count": null,
      "metadata": {
        "id": "kzY2H_0AfJBM"
      },
      "outputs": [],
      "source": []
    },
    {
      "cell_type": "markdown",
      "source": [
        "Link For Dataset: https://github.com/Premalatha-success/Datasets/blob/main/CardioGoodFitness-1.csv"
      ],
      "metadata": {
        "id": "ON6tFyCCviQy"
      }
    },
    {
      "cell_type": "markdown",
      "source": [
        "1. What is the most popular treadmill model?\n",
        "2. What is the least popular treadmill model?\n",
        "3. How does customer fitness level vary across different treadmill models?\n",
        "4. What is the average income of customers who purchased each treadmill model?\n",
        "5. What is the average age of customers for each treadmill model?\n"
      ],
      "metadata": {
        "id": "d6-4Kag3gf47"
      }
    },
    {
      "cell_type": "markdown",
      "source": [
        "6. What is the average age of customers?\n",
        "7. What is the age distribution of customers?\n",
        "8. How does treadmill choice vary by age group?\n",
        "9. What percentage of customers are male vs female?\n",
        "10. How does gender influence treadmill choice?"
      ],
      "metadata": {
        "id": "lZcsNWH0gdZf"
      }
    },
    {
      "cell_type": "markdown",
      "source": [
        "11. How does treadmill usage differ between single and partnered customers?\n",
        "12. How does income vary between single and partnered customers?\n",
        "13. Is there a correlation between marital status and fitness level?\n",
        "14. What is the average fitness level for single vs partnered customers?\n",
        "15. How does treadmill choice vary by marital status?"
      ],
      "metadata": {
        "id": "GnqeEqXLg3OZ"
      }
    },
    {
      "cell_type": "markdown",
      "source": [
        "16. What is the average fitness level of customers?\n",
        "17. How does fitness level correlate with treadmill usage?\n",
        "18. How does treadmill usage vary across different age groups?\n",
        "19. Do customers with higher fitness levels use treadmills more frequently?\n",
        "20. What is the correlation between fitness level and income?"
      ],
      "metadata": {
        "id": "A-y_n0qgvbqe"
      }
    },
    {
      "cell_type": "markdown",
      "source": [
        "21. What is the average income of customers?\n",
        "22. How does income influence treadmill choice?\n",
        "23. Do higher-income customers have higher fitness levels?\n",
        "24. How does income correlate with treadmill usage frequency?\n",
        "25. Are higher-income customers more likely to be partnered or single?"
      ],
      "metadata": {
        "id": "jFEkK8kRiBwL"
      }
    },
    {
      "cell_type": "markdown",
      "source": [
        "26. What is the average number of miles run per week?\n",
        "27. How does miles run per week vary by age group?\n",
        "28. Is there a correlation between fitness level and miles run?\n",
        "29. Do higher-income customers tend to run more miles?\n",
        "30. How does treadmill choice affect miles run per week?"
      ],
      "metadata": {
        "id": "lWsNsyqGiALo"
      }
    },
    {
      "cell_type": "code",
      "source": [],
      "metadata": {
        "id": "p9Tqp8slgeRc"
      },
      "execution_count": null,
      "outputs": []
    }
  ]
}