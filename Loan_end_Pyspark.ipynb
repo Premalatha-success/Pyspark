{
  "nbformat": 4,
  "nbformat_minor": 0,
  "metadata": {
    "colab": {
      "provenance": []
    },
    "kernelspec": {
      "name": "python3",
      "display_name": "Python 3"
    },
    "language_info": {
      "name": "python"
    }
  },
  "cells": [
    {
      "cell_type": "code",
      "execution_count": 2,
      "metadata": {
        "id": "VxRZivr00HIT"
      },
      "outputs": [],
      "source": [
        "import pyspark\n",
        "from pyspark.sql import SparkSession\n",
        "from pyspark.sql import functions as F\n",
        "import warnings\n",
        "warnings.filterwarnings(\"ignore\")"
      ]
    },
    {
      "cell_type": "code",
      "source": [
        "spark=SparkSession.builder.appName(\"loan_prediction\").getOrCreate()"
      ],
      "metadata": {
        "id": "XJox_CIP7VoV"
      },
      "execution_count": 3,
      "outputs": []
    },
    {
      "cell_type": "code",
      "source": [
        "df=spark.read.csv(\"loan_prediction.csv\",header=True,inferSchema=True)"
      ],
      "metadata": {
        "id": "Yprbs1DV8Fdj"
      },
      "execution_count": 4,
      "outputs": []
    },
    {
      "cell_type": "code",
      "source": [
        "df.show(5)"
      ],
      "metadata": {
        "colab": {
          "base_uri": "https://localhost:8080/"
        },
        "id": "-nAdD7yY8NTz",
        "outputId": "bce4d7a7-ea5a-4a7d-a1cc-f66ec377f9da"
      },
      "execution_count": 6,
      "outputs": [
        {
          "output_type": "stream",
          "name": "stdout",
          "text": [
            "+--------+------+-------+----------+------------+-------------+---------------+-----------------+----------+----------------+--------------+-------------+-----------+\n",
            "| Loan_ID|Gender|Married|Dependents|   Education|Self_Employed|ApplicantIncome|CoapplicantIncome|LoanAmount|Loan_Amount_Term|Credit_History|Property_Area|Loan_Status|\n",
            "+--------+------+-------+----------+------------+-------------+---------------+-----------------+----------+----------------+--------------+-------------+-----------+\n",
            "|LP001002|  Male|     No|         0|    Graduate|           No|           5849|              0.0|      NULL|             360|             1|        Urban|          Y|\n",
            "|LP001003|  Male|    Yes|         1|    Graduate|           No|           4583|           1508.0|       128|             360|             1|        Rural|          N|\n",
            "|LP001005|  Male|    Yes|         0|    Graduate|          Yes|           3000|              0.0|        66|             360|             1|        Urban|          Y|\n",
            "|LP001006|  Male|    Yes|         0|Not Graduate|           No|           2583|           2358.0|       120|             360|             1|        Urban|          Y|\n",
            "|LP001008|  Male|     No|         0|    Graduate|           No|           6000|              0.0|       141|             360|             1|        Urban|          Y|\n",
            "+--------+------+-------+----------+------------+-------------+---------------+-----------------+----------+----------------+--------------+-------------+-----------+\n",
            "only showing top 5 rows\n",
            "\n"
          ]
        }
      ]
    },
    {
      "cell_type": "code",
      "source": [
        "df.printSchema()"
      ],
      "metadata": {
        "colab": {
          "base_uri": "https://localhost:8080/"
        },
        "id": "QjzWa-Rt8QqY",
        "outputId": "725ce45f-da3b-4971-a9e2-11dea05b8e06"
      },
      "execution_count": 7,
      "outputs": [
        {
          "output_type": "stream",
          "name": "stdout",
          "text": [
            "root\n",
            " |-- Loan_ID: string (nullable = true)\n",
            " |-- Gender: string (nullable = true)\n",
            " |-- Married: string (nullable = true)\n",
            " |-- Dependents: string (nullable = true)\n",
            " |-- Education: string (nullable = true)\n",
            " |-- Self_Employed: string (nullable = true)\n",
            " |-- ApplicantIncome: integer (nullable = true)\n",
            " |-- CoapplicantIncome: double (nullable = true)\n",
            " |-- LoanAmount: integer (nullable = true)\n",
            " |-- Loan_Amount_Term: integer (nullable = true)\n",
            " |-- Credit_History: integer (nullable = true)\n",
            " |-- Property_Area: string (nullable = true)\n",
            " |-- Loan_Status: string (nullable = true)\n",
            "\n"
          ]
        }
      ]
    },
    {
      "cell_type": "code",
      "source": [
        "df.dtypes"
      ],
      "metadata": {
        "colab": {
          "base_uri": "https://localhost:8080/"
        },
        "id": "u1k0zUAG8ZhN",
        "outputId": "80dc4fa9-3e6a-4a4e-b8c1-5c6fdca855ed"
      },
      "execution_count": 8,
      "outputs": [
        {
          "output_type": "execute_result",
          "data": {
            "text/plain": [
              "[('Loan_ID', 'string'),\n",
              " ('Gender', 'string'),\n",
              " ('Married', 'string'),\n",
              " ('Dependents', 'string'),\n",
              " ('Education', 'string'),\n",
              " ('Self_Employed', 'string'),\n",
              " ('ApplicantIncome', 'int'),\n",
              " ('CoapplicantIncome', 'double'),\n",
              " ('LoanAmount', 'int'),\n",
              " ('Loan_Amount_Term', 'int'),\n",
              " ('Credit_History', 'int'),\n",
              " ('Property_Area', 'string'),\n",
              " ('Loan_Status', 'string')]"
            ]
          },
          "metadata": {},
          "execution_count": 8
        }
      ]
    },
    {
      "cell_type": "code",
      "source": [
        "df.describe().show()"
      ],
      "metadata": {
        "colab": {
          "base_uri": "https://localhost:8080/"
        },
        "id": "WROA0Rpt8iCc",
        "outputId": "a131066b-dc31-49f0-c6bb-307140b49387"
      },
      "execution_count": 9,
      "outputs": [
        {
          "output_type": "stream",
          "name": "stdout",
          "text": [
            "+-------+--------+------+-------+------------------+------------+-------------+-----------------+------------------+------------------+-----------------+------------------+-------------+-----------+\n",
            "|summary| Loan_ID|Gender|Married|        Dependents|   Education|Self_Employed|  ApplicantIncome| CoapplicantIncome|        LoanAmount| Loan_Amount_Term|    Credit_History|Property_Area|Loan_Status|\n",
            "+-------+--------+------+-------+------------------+------------+-------------+-----------------+------------------+------------------+-----------------+------------------+-------------+-----------+\n",
            "|  count|     614|   601|    611|               599|         614|          582|              614|               614|               592|              600|               564|          614|        614|\n",
            "|   mean|    NULL|  NULL|   NULL|0.5547445255474452|        NULL|         NULL|5403.459283387622| 1621.245798027101|146.41216216216216|            342.0|0.8421985815602837|         NULL|       NULL|\n",
            "| stddev|    NULL|  NULL|   NULL|0.7853289861674311|        NULL|         NULL|6109.041673387181|2926.2483692241894| 85.58732523570545|65.12040985461255|0.3648783192364052|         NULL|       NULL|\n",
            "|    min|LP001002|Female|     No|                 0|    Graduate|           No|              150|               0.0|                 9|               12|                 0|        Rural|          N|\n",
            "|    max|LP002990|  Male|    Yes|                3+|Not Graduate|          Yes|            81000|           41667.0|               700|              480|                 1|        Urban|          Y|\n",
            "+-------+--------+------+-------+------------------+------------+-------------+-----------------+------------------+------------------+-----------------+------------------+-------------+-----------+\n",
            "\n"
          ]
        }
      ]
    },
    {
      "cell_type": "code",
      "source": [
        "df.groupBy('Loan_Status').count().show()"
      ],
      "metadata": {
        "colab": {
          "base_uri": "https://localhost:8080/"
        },
        "id": "I3iGcR7y9T1I",
        "outputId": "95c3d663-2405-4f0a-ae46-622a5a7dfe31"
      },
      "execution_count": 11,
      "outputs": [
        {
          "output_type": "stream",
          "name": "stdout",
          "text": [
            "+-----------+-----+\n",
            "|Loan_Status|count|\n",
            "+-----------+-----+\n",
            "|          Y|  422|\n",
            "|          N|  192|\n",
            "+-----------+-----+\n",
            "\n"
          ]
        }
      ]
    },
    {
      "cell_type": "code",
      "source": [
        "df.groupBy('Loan_Status', 'Gender').count().show()"
      ],
      "metadata": {
        "colab": {
          "base_uri": "https://localhost:8080/"
        },
        "id": "jTVDfv8--dU7",
        "outputId": "f76b2d1d-9c7a-4142-e492-c80d4c0ccfdb"
      },
      "execution_count": 12,
      "outputs": [
        {
          "output_type": "stream",
          "name": "stdout",
          "text": [
            "+-----------+------+-----+\n",
            "|Loan_Status|Gender|count|\n",
            "+-----------+------+-----+\n",
            "|          N|Female|   37|\n",
            "|          Y|  NULL|    8|\n",
            "|          Y|Female|   75|\n",
            "|          N|  NULL|    5|\n",
            "|          Y|  Male|  339|\n",
            "|          N|  Male|  150|\n",
            "+-----------+------+-----+\n",
            "\n"
          ]
        }
      ]
    },
    {
      "cell_type": "code",
      "source": [
        "import pyspark.sql as sparksql"
      ],
      "metadata": {
        "id": "tYJ3spGH-2Y5"
      },
      "execution_count": 13,
      "outputs": []
    },
    {
      "cell_type": "code",
      "source": [
        "df.createOrReplaceTempView('table')"
      ],
      "metadata": {
        "id": "H6pznthK_S9w"
      },
      "execution_count": 14,
      "outputs": []
    },
    {
      "cell_type": "code",
      "source": [
        "spark.sql(\"select * from table\").show(5)"
      ],
      "metadata": {
        "colab": {
          "base_uri": "https://localhost:8080/"
        },
        "id": "7p0JsFIB_ccQ",
        "outputId": "9115ecfd-59b1-4e79-e53c-776946280f8a"
      },
      "execution_count": 15,
      "outputs": [
        {
          "output_type": "stream",
          "name": "stdout",
          "text": [
            "+--------+------+-------+----------+------------+-------------+---------------+-----------------+----------+----------------+--------------+-------------+-----------+\n",
            "| Loan_ID|Gender|Married|Dependents|   Education|Self_Employed|ApplicantIncome|CoapplicantIncome|LoanAmount|Loan_Amount_Term|Credit_History|Property_Area|Loan_Status|\n",
            "+--------+------+-------+----------+------------+-------------+---------------+-----------------+----------+----------------+--------------+-------------+-----------+\n",
            "|LP001002|  Male|     No|         0|    Graduate|           No|           5849|              0.0|      NULL|             360|             1|        Urban|          Y|\n",
            "|LP001003|  Male|    Yes|         1|    Graduate|           No|           4583|           1508.0|       128|             360|             1|        Rural|          N|\n",
            "|LP001005|  Male|    Yes|         0|    Graduate|          Yes|           3000|              0.0|        66|             360|             1|        Urban|          Y|\n",
            "|LP001006|  Male|    Yes|         0|Not Graduate|           No|           2583|           2358.0|       120|             360|             1|        Urban|          Y|\n",
            "|LP001008|  Male|     No|         0|    Graduate|           No|           6000|              0.0|       141|             360|             1|        Urban|          Y|\n",
            "+--------+------+-------+----------+------------+-------------+---------------+-----------------+----------+----------------+--------------+-------------+-----------+\n",
            "only showing top 5 rows\n",
            "\n"
          ]
        }
      ]
    },
    {
      "cell_type": "code",
      "source": [
        "spark.sql('select Loan_ID from table where Credit_History = 1').show()"
      ],
      "metadata": {
        "colab": {
          "base_uri": "https://localhost:8080/"
        },
        "id": "78PnBjyr_iB2",
        "outputId": "3e86c519-1925-4370-e721-33d2be283f6d"
      },
      "execution_count": 17,
      "outputs": [
        {
          "output_type": "stream",
          "name": "stdout",
          "text": [
            "+--------+\n",
            "| Loan_ID|\n",
            "+--------+\n",
            "|LP001002|\n",
            "|LP001003|\n",
            "|LP001005|\n",
            "|LP001006|\n",
            "|LP001008|\n",
            "|LP001011|\n",
            "|LP001013|\n",
            "|LP001018|\n",
            "|LP001020|\n",
            "|LP001024|\n",
            "|LP001027|\n",
            "|LP001028|\n",
            "|LP001029|\n",
            "|LP001030|\n",
            "|LP001032|\n",
            "|LP001038|\n",
            "|LP001041|\n",
            "|LP001046|\n",
            "|LP001066|\n",
            "|LP001068|\n",
            "+--------+\n",
            "only showing top 20 rows\n",
            "\n"
          ]
        }
      ]
    },
    {
      "cell_type": "code",
      "source": [
        "df.select([F.count(F.when(F.col(c).isNull(), c)).alias(c) for c in df.columns]).show()"
      ],
      "metadata": {
        "colab": {
          "base_uri": "https://localhost:8080/"
        },
        "id": "arDauvuvBLuT",
        "outputId": "3d36c06d-fe20-4662-ecdf-66911a4cdebb"
      },
      "execution_count": 19,
      "outputs": [
        {
          "output_type": "stream",
          "name": "stdout",
          "text": [
            "+-------+------+-------+----------+---------+-------------+---------------+-----------------+----------+----------------+--------------+-------------+-----------+\n",
            "|Loan_ID|Gender|Married|Dependents|Education|Self_Employed|ApplicantIncome|CoapplicantIncome|LoanAmount|Loan_Amount_Term|Credit_History|Property_Area|Loan_Status|\n",
            "+-------+------+-------+----------+---------+-------------+---------------+-----------------+----------+----------------+--------------+-------------+-----------+\n",
            "|      0|    13|      3|        15|        0|           32|              0|                0|        22|              14|            50|            0|          0|\n",
            "+-------+------+-------+----------+---------+-------------+---------------+-----------------+----------+----------------+--------------+-------------+-----------+\n",
            "\n"
          ]
        }
      ]
    },
    {
      "cell_type": "code",
      "source": [
        "numerical_cols = ['LoanAmount', 'Loan_Amount_Term']\n",
        "categorical_cols = ['Gender', 'Married', 'Dependents', 'Self_Employed', 'Credit_History']"
      ],
      "metadata": {
        "id": "VKOsIB0yBHO_"
      },
      "execution_count": 21,
      "outputs": []
    },
    {
      "cell_type": "code",
      "source": [
        "for col in numerical_cols:\n",
        "    mean = df.select(F.mean(df[col])).collect()[0][0]\n",
        "    df = df.na.fill(mean, [col])"
      ],
      "metadata": {
        "id": "BFn87B9uCmLQ"
      },
      "execution_count": 22,
      "outputs": []
    },
    {
      "cell_type": "code",
      "source": [
        "for col in categorical_cols:\n",
        "    mode = df.groupby(col).count().orderBy(\"count\", ascending=False).first()[0]\n",
        "    df = df.na.fill(mode, [col])"
      ],
      "metadata": {
        "id": "Ay55glGmCpI4"
      },
      "execution_count": 23,
      "outputs": []
    },
    {
      "cell_type": "code",
      "source": [
        "df.select([F.count(F.when(F.col(c).isNull(), c)).alias(c) for c in df.columns]).show()"
      ],
      "metadata": {
        "colab": {
          "base_uri": "https://localhost:8080/"
        },
        "id": "LVGhXNqbDtsW",
        "outputId": "47f272bc-ef54-4d98-e8cc-e87a50920470"
      },
      "execution_count": 24,
      "outputs": [
        {
          "output_type": "stream",
          "name": "stdout",
          "text": [
            "+-------+------+-------+----------+---------+-------------+---------------+-----------------+----------+----------------+--------------+-------------+-----------+\n",
            "|Loan_ID|Gender|Married|Dependents|Education|Self_Employed|ApplicantIncome|CoapplicantIncome|LoanAmount|Loan_Amount_Term|Credit_History|Property_Area|Loan_Status|\n",
            "+-------+------+-------+----------+---------+-------------+---------------+-----------------+----------+----------------+--------------+-------------+-----------+\n",
            "|      0|     0|      0|         0|        0|            0|              0|                0|         0|               0|             0|            0|          0|\n",
            "+-------+------+-------+----------+---------+-------------+---------------+-----------------+----------+----------------+--------------+-------------+-----------+\n",
            "\n"
          ]
        }
      ]
    },
    {
      "cell_type": "code",
      "source": [
        "df=df.withColumn(\"Loan_Status\",F.when(df.Loan_Status==\"Y\",1).otherwise(0))"
      ],
      "metadata": {
        "id": "6bUUHQt1Dy-f"
      },
      "execution_count": 25,
      "outputs": []
    },
    {
      "cell_type": "code",
      "source": [
        "df.show(5)"
      ],
      "metadata": {
        "colab": {
          "base_uri": "https://localhost:8080/"
        },
        "id": "sOM6vG_tE2MZ",
        "outputId": "1e16ca4a-e582-462b-ab57-ff2549c3c630"
      },
      "execution_count": 26,
      "outputs": [
        {
          "output_type": "stream",
          "name": "stdout",
          "text": [
            "+--------+------+-------+----------+------------+-------------+---------------+-----------------+----------+----------------+--------------+-------------+-----------+\n",
            "| Loan_ID|Gender|Married|Dependents|   Education|Self_Employed|ApplicantIncome|CoapplicantIncome|LoanAmount|Loan_Amount_Term|Credit_History|Property_Area|Loan_Status|\n",
            "+--------+------+-------+----------+------------+-------------+---------------+-----------------+----------+----------------+--------------+-------------+-----------+\n",
            "|LP001002|  Male|     No|         0|    Graduate|           No|           5849|              0.0|       146|             360|             1|        Urban|          1|\n",
            "|LP001003|  Male|    Yes|         1|    Graduate|           No|           4583|           1508.0|       128|             360|             1|        Rural|          0|\n",
            "|LP001005|  Male|    Yes|         0|    Graduate|          Yes|           3000|              0.0|        66|             360|             1|        Urban|          1|\n",
            "|LP001006|  Male|    Yes|         0|Not Graduate|           No|           2583|           2358.0|       120|             360|             1|        Urban|          1|\n",
            "|LP001008|  Male|     No|         0|    Graduate|           No|           6000|              0.0|       141|             360|             1|        Urban|          1|\n",
            "+--------+------+-------+----------+------------+-------------+---------------+-----------------+----------+----------------+--------------+-------------+-----------+\n",
            "only showing top 5 rows\n",
            "\n"
          ]
        }
      ]
    },
    {
      "cell_type": "code",
      "source": [
        "df=df.drop(\"Loan_ID\")"
      ],
      "metadata": {
        "id": "hg9RDnVhQR2w"
      },
      "execution_count": 45,
      "outputs": []
    },
    {
      "cell_type": "code",
      "source": [
        "from pyspark.ml.feature import VectorAssembler, OneHotEncoder, StringIndexer\n",
        "from pyspark.ml import Pipeline"
      ],
      "metadata": {
        "id": "gGcQJjyBF8Ng"
      },
      "execution_count": 46,
      "outputs": []
    },
    {
      "cell_type": "code",
      "source": [
        "categorical_columns = ['Gender', 'Married', 'Dependents', 'Education', 'Self_Employed', 'Property_Area', 'Credit_History']\n",
        "numerical_columns = ['ApplicantIncome', 'CoapplicantIncome', 'LoanAmount', 'Loan_Amount_Term']\n",
        "\n",
        "# index the string columns\n",
        "indexers = [StringIndexer(inputCol=col, outputCol=\"{0}_index\".format(col)) for col in categorical_columns]\n",
        "\n",
        "# encode the indexed values\n",
        "encoders = [OneHotEncoder(dropLast=False, inputCol=indexer.getOutputCol(), outputCol=\"{0}_encoded\".format(indexer.getOutputCol()))\n",
        "           for indexer in indexers]\n",
        "\n",
        "input_columns = [encoder.getOutputCol() for encoder in encoders] + numerical_columns\n",
        "\n",
        "# vectorize the encoded values\n",
        "assembler = VectorAssembler(inputCols=input_columns, outputCol=\"feature\")"
      ],
      "metadata": {
        "id": "0g0BmXHlE5Z3"
      },
      "execution_count": 47,
      "outputs": []
    },
    {
      "cell_type": "code",
      "source": [
        "pipeline=Pipeline(stages=indexers+encoders+[assembler])"
      ],
      "metadata": {
        "id": "_egWQIdwFWiA"
      },
      "execution_count": 48,
      "outputs": []
    },
    {
      "cell_type": "code",
      "source": [
        "model=pipeline.fit(df)"
      ],
      "metadata": {
        "id": "y6hhR2QyIdxd"
      },
      "execution_count": 49,
      "outputs": []
    },
    {
      "cell_type": "code",
      "source": [
        "transformed_df=model.transform(df)"
      ],
      "metadata": {
        "id": "Yx6zIhzcIYcT"
      },
      "execution_count": 50,
      "outputs": []
    },
    {
      "cell_type": "code",
      "source": [
        "transformed_df.show(5)"
      ],
      "metadata": {
        "colab": {
          "base_uri": "https://localhost:8080/"
        },
        "id": "Ja6CNo4_IpIB",
        "outputId": "29769396-b7ec-4f04-a1d5-c72bc8cba30d"
      },
      "execution_count": 51,
      "outputs": [
        {
          "output_type": "stream",
          "name": "stdout",
          "text": [
            "+------+-------+----------+------------+-------------+---------------+-----------------+----------+----------------+--------------+-------------+-----------+------------+-------------+----------------+---------------+-------------------+-------------------+--------------------+--------------------+---------------------+------------------------+-----------------------+---------------------------+---------------------------+----------------------------+--------------------+\n",
            "|Gender|Married|Dependents|   Education|Self_Employed|ApplicantIncome|CoapplicantIncome|LoanAmount|Loan_Amount_Term|Credit_History|Property_Area|Loan_Status|Gender_index|Married_index|Dependents_index|Education_index|Self_Employed_index|Property_Area_index|Credit_History_index|Gender_index_encoded|Married_index_encoded|Dependents_index_encoded|Education_index_encoded|Self_Employed_index_encoded|Property_Area_index_encoded|Credit_History_index_encoded|             feature|\n",
            "+------+-------+----------+------------+-------------+---------------+-----------------+----------+----------------+--------------+-------------+-----------+------------+-------------+----------------+---------------+-------------------+-------------------+--------------------+--------------------+---------------------+------------------------+-----------------------+---------------------------+---------------------------+----------------------------+--------------------+\n",
            "|  Male|     No|         0|    Graduate|           No|           5849|              0.0|       146|             360|             1|        Urban|          1|         0.0|          1.0|             0.0|            0.0|                0.0|                1.0|                 0.0|       (2,[0],[1.0])|        (2,[1],[1.0])|           (4,[0],[1.0])|          (2,[0],[1.0])|              (2,[0],[1.0])|              (3,[1],[1.0])|               (2,[0],[1.0])|(21,[0,3,4,8,10,1...|\n",
            "|  Male|    Yes|         1|    Graduate|           No|           4583|           1508.0|       128|             360|             1|        Rural|          0|         0.0|          0.0|             1.0|            0.0|                0.0|                2.0|                 0.0|       (2,[0],[1.0])|        (2,[0],[1.0])|           (4,[1],[1.0])|          (2,[0],[1.0])|              (2,[0],[1.0])|              (3,[2],[1.0])|               (2,[0],[1.0])|(21,[0,2,5,8,10,1...|\n",
            "|  Male|    Yes|         0|    Graduate|          Yes|           3000|              0.0|        66|             360|             1|        Urban|          1|         0.0|          0.0|             0.0|            0.0|                1.0|                1.0|                 0.0|       (2,[0],[1.0])|        (2,[0],[1.0])|           (4,[0],[1.0])|          (2,[0],[1.0])|              (2,[1],[1.0])|              (3,[1],[1.0])|               (2,[0],[1.0])|(21,[0,2,4,8,11,1...|\n",
            "|  Male|    Yes|         0|Not Graduate|           No|           2583|           2358.0|       120|             360|             1|        Urban|          1|         0.0|          0.0|             0.0|            1.0|                0.0|                1.0|                 0.0|       (2,[0],[1.0])|        (2,[0],[1.0])|           (4,[0],[1.0])|          (2,[1],[1.0])|              (2,[0],[1.0])|              (3,[1],[1.0])|               (2,[0],[1.0])|(21,[0,2,4,9,10,1...|\n",
            "|  Male|     No|         0|    Graduate|           No|           6000|              0.0|       141|             360|             1|        Urban|          1|         0.0|          1.0|             0.0|            0.0|                0.0|                1.0|                 0.0|       (2,[0],[1.0])|        (2,[1],[1.0])|           (4,[0],[1.0])|          (2,[0],[1.0])|              (2,[0],[1.0])|              (3,[1],[1.0])|               (2,[0],[1.0])|(21,[0,3,4,8,10,1...|\n",
            "+------+-------+----------+------------+-------------+---------------+-----------------+----------+----------------+--------------+-------------+-----------+------------+-------------+----------------+---------------+-------------------+-------------------+--------------------+--------------------+---------------------+------------------------+-----------------------+---------------------------+---------------------------+----------------------------+--------------------+\n",
            "only showing top 5 rows\n",
            "\n"
          ]
        }
      ]
    },
    {
      "cell_type": "code",
      "source": [
        "transformed_df = transformed_df.select(['feature', 'Loan_Status'])\n",
        "transformed_df.show(5)"
      ],
      "metadata": {
        "colab": {
          "base_uri": "https://localhost:8080/"
        },
        "id": "DjozGpkCJKc3",
        "outputId": "a34819ff-8585-410c-865a-ed6bd7d4b3ce"
      },
      "execution_count": 52,
      "outputs": [
        {
          "output_type": "stream",
          "name": "stdout",
          "text": [
            "+--------------------+-----------+\n",
            "|             feature|Loan_Status|\n",
            "+--------------------+-----------+\n",
            "|(21,[0,3,4,8,10,1...|          1|\n",
            "|(21,[0,2,5,8,10,1...|          0|\n",
            "|(21,[0,2,4,8,11,1...|          1|\n",
            "|(21,[0,2,4,9,10,1...|          1|\n",
            "|(21,[0,3,4,8,10,1...|          1|\n",
            "+--------------------+-----------+\n",
            "only showing top 5 rows\n",
            "\n"
          ]
        }
      ]
    },
    {
      "cell_type": "code",
      "source": [
        "train_data, test_data = transformed_df.randomSplit([0.8, 0.2], seed=42)"
      ],
      "metadata": {
        "id": "cFovqqKiPj8G"
      },
      "execution_count": 40,
      "outputs": []
    },
    {
      "cell_type": "code",
      "source": [
        "from pyspark.ml.classification import DecisionTreeClassifier, RandomForestClassifier, LinearSVC\n",
        "from pyspark.ml.evaluation import BinaryClassificationEvaluator"
      ],
      "metadata": {
        "id": "ENSzdmjXP89Z"
      },
      "execution_count": 41,
      "outputs": []
    },
    {
      "cell_type": "code",
      "source": [
        "dt = DecisionTreeClassifier(featuresCol='feature', labelCol='Loan_Status')\n",
        "dt_model = dt.fit(train_data)"
      ],
      "metadata": {
        "id": "ipMmkzLLP_BD"
      },
      "execution_count": 53,
      "outputs": []
    },
    {
      "cell_type": "code",
      "source": [
        "predictions = dt_model.transform(test_data)\n",
        "predictions.show()"
      ],
      "metadata": {
        "colab": {
          "base_uri": "https://localhost:8080/"
        },
        "id": "Bz5ZBfUMQDZz",
        "outputId": "c6cc86f0-354e-425a-9c66-1839821d005d"
      },
      "execution_count": 55,
      "outputs": [
        {
          "output_type": "stream",
          "name": "stdout",
          "text": [
            "+--------------------+-----------+-------------+--------------------+----------+\n",
            "|             feature|Loan_Status|rawPrediction|         probability|prediction|\n",
            "+--------------------+-----------+-------------+--------------------+----------+\n",
            "|(21,[0,2,4,8,10,1...|          1|  [6.0,101.0]|[0.05607476635514...|       1.0|\n",
            "|(21,[0,2,4,8,10,1...|          1|  [6.0,101.0]|[0.05607476635514...|       1.0|\n",
            "|(21,[0,2,4,8,10,1...|          1|  [12.0,45.0]|[0.21052631578947...|       1.0|\n",
            "|(21,[0,2,4,8,10,1...|          1|  [6.0,101.0]|[0.05607476635514...|       1.0|\n",
            "|(21,[0,2,4,8,10,1...|          1|  [12.0,45.0]|[0.21052631578947...|       1.0|\n",
            "|(21,[0,2,4,8,10,1...|          1|  [12.0,45.0]|[0.21052631578947...|       1.0|\n",
            "|(21,[0,2,4,8,10,1...|          0|  [12.0,45.0]|[0.21052631578947...|       1.0|\n",
            "|(21,[0,2,4,8,10,1...|          1|    [1.0,0.0]|           [1.0,0.0]|       0.0|\n",
            "|(21,[0,2,4,8,10,1...|          1|   [2.0,10.0]|[0.16666666666666...|       1.0|\n",
            "|(21,[0,2,4,8,10,1...|          1| [62.0,185.0]|[0.25101214574898...|       1.0|\n",
            "|(21,[0,2,4,8,10,1...|          1| [62.0,185.0]|[0.25101214574898...|       1.0|\n",
            "|(21,[0,2,4,8,10,1...|          1| [62.0,185.0]|[0.25101214574898...|       1.0|\n",
            "|(21,[0,2,4,8,10,1...|          1| [62.0,185.0]|[0.25101214574898...|       1.0|\n",
            "|(21,[0,2,4,8,10,1...|          1| [62.0,185.0]|[0.25101214574898...|       1.0|\n",
            "|(21,[0,2,4,8,10,1...|          1| [62.0,185.0]|[0.25101214574898...|       1.0|\n",
            "|(21,[0,2,4,8,10,1...|          0| [62.0,185.0]|[0.25101214574898...|       1.0|\n",
            "|(21,[0,2,4,8,10,1...|          0|   [68.0,5.0]|[0.93150684931506...|       0.0|\n",
            "|(21,[0,2,4,8,10,1...|          1| [62.0,185.0]|[0.25101214574898...|       1.0|\n",
            "|(21,[0,2,4,8,10,1...|          1| [62.0,185.0]|[0.25101214574898...|       1.0|\n",
            "|(21,[0,2,4,8,10,1...|          0|   [68.0,5.0]|[0.93150684931506...|       0.0|\n",
            "+--------------------+-----------+-------------+--------------------+----------+\n",
            "only showing top 20 rows\n",
            "\n"
          ]
        }
      ]
    },
    {
      "cell_type": "code",
      "source": [],
      "metadata": {
        "id": "cnXXcbZaQG2z"
      },
      "execution_count": 54,
      "outputs": []
    }
  ]
}