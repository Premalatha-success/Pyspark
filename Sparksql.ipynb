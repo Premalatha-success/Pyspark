{
  "nbformat": 4,
  "nbformat_minor": 0,
  "metadata": {
    "colab": {
      "provenance": []
    },
    "kernelspec": {
      "name": "python3",
      "display_name": "Python 3"
    },
    "language_info": {
      "name": "python"
    }
  },
  "cells": [
    {
      "cell_type": "code",
      "execution_count": 94,
      "metadata": {
        "id": "95q1ubQxvNVl"
      },
      "outputs": [],
      "source": [
        "import pyspark\n",
        "from pyspark.sql import SparkSession\n",
        "import pyspark.sql.functions as F\n",
        "import pandas as pd\n",
        "import warnings\n",
        "warnings.filterwarnings('ignore')"
      ]
    },
    {
      "cell_type": "code",
      "source": [
        "spark = SparkSession.builder.appName('loan_prediction').getOrCreate()"
      ],
      "metadata": {
        "id": "1C_r2fOU4puF"
      },
      "execution_count": 95,
      "outputs": []
    },
    {
      "cell_type": "code",
      "source": [
        "df=spark.read.json(\"/content/nyt2.json\")"
      ],
      "metadata": {
        "id": "-WJzru9g4zL4"
      },
      "execution_count": 96,
      "outputs": []
    },
    {
      "cell_type": "code",
      "source": [
        "df.show(5)"
      ],
      "metadata": {
        "colab": {
          "base_uri": "https://localhost:8080/"
        },
        "id": "dpmVQxJi45E-",
        "outputId": "f5f96654-b176-4424-96ea-8d1fcc168b27"
      },
      "execution_count": 97,
      "outputs": [
        {
          "output_type": "stream",
          "name": "stdout",
          "text": [
            "+--------------------+--------------------+-----------------+-----------------+--------------------+-------------+-----------------+-------------+----+--------------+--------------------+-------------+\n",
            "|                 _id|  amazon_product_url|           author| bestsellers_date|         description|        price|   published_date|    publisher|rank|rank_last_week|               title|weeks_on_list|\n",
            "+--------------------+--------------------+-----------------+-----------------+--------------------+-------------+-----------------+-------------+----+--------------+--------------------+-------------+\n",
            "|{5b4aa4ead3089013...|http://www.amazon...|    Dean R Koontz|{{1211587200000}}|Odd Thomas, who c...|   {NULL, 27}|{{1212883200000}}|       Bantam| {1}|           {0}|           ODD HOURS|          {1}|\n",
            "|{5b4aa4ead3089013...|http://www.amazon...|  Stephenie Meyer|{{1211587200000}}|Aliens have taken...|{25.99, NULL}|{{1212883200000}}|Little, Brown| {2}|           {1}|            THE HOST|          {3}|\n",
            "|{5b4aa4ead3089013...|http://www.amazon...|     Emily Giffin|{{1211587200000}}|A woman's happy m...|{24.95, NULL}|{{1212883200000}}| St. Martin's| {3}|           {2}|LOVE THE ONE YOU'...|          {2}|\n",
            "|{5b4aa4ead3089013...|http://www.amazon...|Patricia Cornwell|{{1211587200000}}|A Massachusetts s...|{22.95, NULL}|{{1212883200000}}|       Putnam| {4}|           {0}|           THE FRONT|          {1}|\n",
            "|{5b4aa4ead3089013...|http://www.amazon...|  Chuck Palahniuk|{{1211587200000}}|An aging porn que...|{24.95, NULL}|{{1212883200000}}|    Doubleday| {5}|           {0}|               SNUFF|          {1}|\n",
            "+--------------------+--------------------+-----------------+-----------------+--------------------+-------------+-----------------+-------------+----+--------------+--------------------+-------------+\n",
            "only showing top 5 rows\n",
            "\n"
          ]
        }
      ]
    },
    {
      "cell_type": "code",
      "source": [
        "df.describe().show()"
      ],
      "metadata": {
        "colab": {
          "base_uri": "https://localhost:8080/"
        },
        "id": "aP84tLyo4-WS",
        "outputId": "f63c54f2-b33f-446b-c999-1b3cdb72db0e"
      },
      "execution_count": 98,
      "outputs": [
        {
          "output_type": "stream",
          "name": "stdout",
          "text": [
            "+-------+--------------------+---------------+--------------------+---------+------------------+\n",
            "|summary|  amazon_product_url|         author|         description|publisher|             title|\n",
            "+-------+--------------------+---------------+--------------------+---------+------------------+\n",
            "|  count|               10195|          10195|               10195|    10195|             10195|\n",
            "|   mean|                NULL|           NULL|                NULL|     NULL|1877.7142857142858|\n",
            "| stddev|                NULL|           NULL|                NULL|     NULL| 370.9760613506458|\n",
            "|    min|http://www.amazon...|        AJ Finn|                    |      ACE|  10TH ANNIVERSARY|\n",
            "|    max|https://www.amazo...|various authors|’Tis for the Rebe...|allantine|               ZOO|\n",
            "+-------+--------------------+---------------+--------------------+---------+------------------+\n",
            "\n"
          ]
        }
      ]
    },
    {
      "cell_type": "code",
      "source": [
        "df.select(\"author\").show(10)"
      ],
      "metadata": {
        "colab": {
          "base_uri": "https://localhost:8080/"
        },
        "id": "F-5wnv7k5FWS",
        "outputId": "11bca8a2-0f3d-458f-8ef6-2a2a907c23d4"
      },
      "execution_count": 99,
      "outputs": [
        {
          "output_type": "stream",
          "name": "stdout",
          "text": [
            "+--------------------+\n",
            "|              author|\n",
            "+--------------------+\n",
            "|       Dean R Koontz|\n",
            "|     Stephenie Meyer|\n",
            "|        Emily Giffin|\n",
            "|   Patricia Cornwell|\n",
            "|     Chuck Palahniuk|\n",
            "|James Patterson a...|\n",
            "|       John Sandford|\n",
            "|       Jimmy Buffett|\n",
            "|    Elizabeth George|\n",
            "|      David Baldacci|\n",
            "+--------------------+\n",
            "only showing top 10 rows\n",
            "\n"
          ]
        }
      ]
    },
    {
      "cell_type": "code",
      "source": [
        "df.select(\"author\", \"title\", \"price\", \"rank\").show(10)"
      ],
      "metadata": {
        "colab": {
          "base_uri": "https://localhost:8080/"
        },
        "id": "SAnG_OUE6C8y",
        "outputId": "36113608-ac34-49ed-85b6-8823b8d7b45d"
      },
      "execution_count": 100,
      "outputs": [
        {
          "output_type": "stream",
          "name": "stdout",
          "text": [
            "+--------------------+--------------------+-------------+----+\n",
            "|              author|               title|        price|rank|\n",
            "+--------------------+--------------------+-------------+----+\n",
            "|       Dean R Koontz|           ODD HOURS|   {NULL, 27}| {1}|\n",
            "|     Stephenie Meyer|            THE HOST|{25.99, NULL}| {2}|\n",
            "|        Emily Giffin|LOVE THE ONE YOU'...|{24.95, NULL}| {3}|\n",
            "|   Patricia Cornwell|           THE FRONT|{22.95, NULL}| {4}|\n",
            "|     Chuck Palahniuk|               SNUFF|{24.95, NULL}| {5}|\n",
            "|James Patterson a...|SUNDAYS AT TIFFANY’S|{24.99, NULL}| {6}|\n",
            "|       John Sandford|        PHANTOM PREY|{26.95, NULL}| {7}|\n",
            "|       Jimmy Buffett|          SWINE NOT?|{21.99, NULL}| {8}|\n",
            "|    Elizabeth George|     CARELESS IN RED|{27.95, NULL}| {9}|\n",
            "|      David Baldacci|     THE WHOLE TRUTH|{26.99, NULL}|{10}|\n",
            "+--------------------+--------------------+-------------+----+\n",
            "only showing top 10 rows\n",
            "\n"
          ]
        }
      ]
    },
    {
      "cell_type": "code",
      "source": [
        "df = df.withColumn(\"is_odd_hours\",F.when(F.col(\"title\") == \"ODD HOURS\", 1).otherwise(0))\n",
        "df.select(\"title\",\"is_odd_hours\").show(10)"
      ],
      "metadata": {
        "colab": {
          "base_uri": "https://localhost:8080/"
        },
        "id": "G1GkZRRv6UG7",
        "outputId": "e81b40cb-0bfd-4f08-b476-a031b3034498"
      },
      "execution_count": 101,
      "outputs": [
        {
          "output_type": "stream",
          "name": "stdout",
          "text": [
            "+--------------------+------------+\n",
            "|               title|is_odd_hours|\n",
            "+--------------------+------------+\n",
            "|           ODD HOURS|           1|\n",
            "|            THE HOST|           0|\n",
            "|LOVE THE ONE YOU'...|           0|\n",
            "|           THE FRONT|           0|\n",
            "|               SNUFF|           0|\n",
            "|SUNDAYS AT TIFFANY’S|           0|\n",
            "|        PHANTOM PREY|           0|\n",
            "|          SWINE NOT?|           0|\n",
            "|     CARELESS IN RED|           0|\n",
            "|     THE WHOLE TRUTH|           0|\n",
            "+--------------------+------------+\n",
            "only showing top 10 rows\n",
            "\n"
          ]
        }
      ]
    },
    {
      "cell_type": "code",
      "source": [
        "df[df.author.isin(\"John \",\"em \")]"
      ],
      "metadata": {
        "colab": {
          "base_uri": "https://localhost:8080/"
        },
        "id": "A7Qbaar483wx",
        "outputId": "ffe04481-86af-43c9-dd04-9cc3c9eb8a38"
      },
      "execution_count": 102,
      "outputs": [
        {
          "output_type": "execute_result",
          "data": {
            "text/plain": [
              "DataFrame[_id: struct<$oid:string>, amazon_product_url: string, author: string, bestsellers_date: struct<$date:struct<$numberLong:string>>, description: string, price: struct<$numberDouble:string,$numberInt:string>, published_date: struct<$date:struct<$numberLong:string>>, publisher: string, rank: struct<$numberInt:string>, rank_last_week: struct<$numberInt:string>, title: string, weeks_on_list: struct<$numberInt:string>, is_odd_hours: int]"
            ]
          },
          "metadata": {},
          "execution_count": 102
        }
      ]
    },
    {
      "cell_type": "code",
      "source": [
        "df.where(df.author.isin('Emily Giffin','John Sandford')).select(df.author).show()"
      ],
      "metadata": {
        "colab": {
          "base_uri": "https://localhost:8080/"
        },
        "id": "SQwUcCHd82NX",
        "outputId": "69dfa489-fc52-4abc-d703-403e1f0ce2c5"
      },
      "execution_count": 103,
      "outputs": [
        {
          "output_type": "stream",
          "name": "stdout",
          "text": [
            "+-------------+\n",
            "|       author|\n",
            "+-------------+\n",
            "| Emily Giffin|\n",
            "|John Sandford|\n",
            "| Emily Giffin|\n",
            "|John Sandford|\n",
            "| Emily Giffin|\n",
            "|John Sandford|\n",
            "| Emily Giffin|\n",
            "| Emily Giffin|\n",
            "|John Sandford|\n",
            "| Emily Giffin|\n",
            "| Emily Giffin|\n",
            "| Emily Giffin|\n",
            "| Emily Giffin|\n",
            "| Emily Giffin|\n",
            "| Emily Giffin|\n",
            "| Emily Giffin|\n",
            "| Emily Giffin|\n",
            "| Emily Giffin|\n",
            "|John Sandford|\n",
            "|John Sandford|\n",
            "+-------------+\n",
            "only showing top 20 rows\n",
            "\n"
          ]
        }
      ]
    },
    {
      "cell_type": "code",
      "source": [
        "df.filter(df.author.isin('Emily Giffin','John Sandford')).select(df.author).show()"
      ],
      "metadata": {
        "colab": {
          "base_uri": "https://localhost:8080/"
        },
        "id": "QAK5VYM47EPa",
        "outputId": "f09cf60b-1442-4241-cd18-4b615eea18f2"
      },
      "execution_count": 104,
      "outputs": [
        {
          "output_type": "stream",
          "name": "stdout",
          "text": [
            "+-------------+\n",
            "|       author|\n",
            "+-------------+\n",
            "| Emily Giffin|\n",
            "|John Sandford|\n",
            "| Emily Giffin|\n",
            "|John Sandford|\n",
            "| Emily Giffin|\n",
            "|John Sandford|\n",
            "| Emily Giffin|\n",
            "| Emily Giffin|\n",
            "|John Sandford|\n",
            "| Emily Giffin|\n",
            "| Emily Giffin|\n",
            "| Emily Giffin|\n",
            "| Emily Giffin|\n",
            "| Emily Giffin|\n",
            "| Emily Giffin|\n",
            "| Emily Giffin|\n",
            "| Emily Giffin|\n",
            "| Emily Giffin|\n",
            "|John Sandford|\n",
            "|John Sandford|\n",
            "+-------------+\n",
            "only showing top 20 rows\n",
            "\n"
          ]
        }
      ]
    },
    {
      "cell_type": "code",
      "source": [
        "df=df.withColumnRenamed(\"amazon_product_url\",\"URL\")\n",
        "df.show()"
      ],
      "metadata": {
        "colab": {
          "base_uri": "https://localhost:8080/"
        },
        "id": "2DEwwlM48t3o",
        "outputId": "dce7e235-29b5-4636-96b6-334dd2b2ed9e"
      },
      "execution_count": 105,
      "outputs": [
        {
          "output_type": "stream",
          "name": "stdout",
          "text": [
            "+--------------------+--------------------+--------------------+-----------------+--------------------+-------------+-----------------+--------------------+----+--------------+--------------------+-------------+------------+\n",
            "|                 _id|                 URL|              author| bestsellers_date|         description|        price|   published_date|           publisher|rank|rank_last_week|               title|weeks_on_list|is_odd_hours|\n",
            "+--------------------+--------------------+--------------------+-----------------+--------------------+-------------+-----------------+--------------------+----+--------------+--------------------+-------------+------------+\n",
            "|{5b4aa4ead3089013...|http://www.amazon...|       Dean R Koontz|{{1211587200000}}|Odd Thomas, who c...|   {NULL, 27}|{{1212883200000}}|              Bantam| {1}|           {0}|           ODD HOURS|          {1}|           1|\n",
            "|{5b4aa4ead3089013...|http://www.amazon...|     Stephenie Meyer|{{1211587200000}}|Aliens have taken...|{25.99, NULL}|{{1212883200000}}|       Little, Brown| {2}|           {1}|            THE HOST|          {3}|           0|\n",
            "|{5b4aa4ead3089013...|http://www.amazon...|        Emily Giffin|{{1211587200000}}|A woman's happy m...|{24.95, NULL}|{{1212883200000}}|        St. Martin's| {3}|           {2}|LOVE THE ONE YOU'...|          {2}|           0|\n",
            "|{5b4aa4ead3089013...|http://www.amazon...|   Patricia Cornwell|{{1211587200000}}|A Massachusetts s...|{22.95, NULL}|{{1212883200000}}|              Putnam| {4}|           {0}|           THE FRONT|          {1}|           0|\n",
            "|{5b4aa4ead3089013...|http://www.amazon...|     Chuck Palahniuk|{{1211587200000}}|An aging porn que...|{24.95, NULL}|{{1212883200000}}|           Doubleday| {5}|           {0}|               SNUFF|          {1}|           0|\n",
            "|{5b4aa4ead3089013...|http://www.amazon...|James Patterson a...|{{1211587200000}}|A woman finds an ...|{24.99, NULL}|{{1212883200000}}|       Little, Brown| {6}|           {3}|SUNDAYS AT TIFFANY’S|          {4}|           0|\n",
            "|{5b4aa4ead3089013...|http://www.amazon...|       John Sandford|{{1211587200000}}|The Minneapolis d...|{26.95, NULL}|{{1212883200000}}|              Putnam| {7}|           {4}|        PHANTOM PREY|          {3}|           0|\n",
            "|{5b4aa4ead3089013...|http://www.amazon...|       Jimmy Buffett|{{1211587200000}}|A Southern family...|{21.99, NULL}|{{1212883200000}}|       Little, Brown| {8}|           {6}|          SWINE NOT?|          {2}|           0|\n",
            "|{5b4aa4ead3089013...|http://www.amazon...|    Elizabeth George|{{1211587200000}}|In Cornwall, tryi...|{27.95, NULL}|{{1212883200000}}|              Harper| {9}|           {8}|     CARELESS IN RED|          {3}|           0|\n",
            "|{5b4aa4ead3089013...|http://www.amazon...|      David Baldacci|{{1211587200000}}|An intelligence a...|{26.99, NULL}|{{1212883200000}}|       Grand Central|{10}|           {7}|     THE WHOLE TRUTH|          {5}|           0|\n",
            "|{5b4aa4ead3089013...|http://www.amazon...|        Troy Denning|{{1211587200000}}|The New Jedi orde...|   {NULL, 27}|{{1212883200000}}|  Del Rey/Ballantine|{11}|           {5}|          INVINCIBLE|          {2}|           0|\n",
            "|{5b4aa4ead3089013...|http://www.amazon...|          James Frey|{{1211587200000}}|A novel, set in L...|{26.95, NULL}|{{1212883200000}}|              Harper|{12}|           {9}|BRIGHT SHINY MORNING|          {2}|           0|\n",
            "|{5b4aa4ead3089013...|http://www.amazon...|         Garth Stein|{{1211587200000}}|A Lab-terrier mix...|{23.95, NULL}|{{1212883200000}}|              Harper|{13}|           {0}|THE ART OF RACING...|          {1}|           0|\n",
            "|{5b4aa4ead3089013...|http://www.amazon...|     Debbie Macomber|{{1211587200000}}|A widow who owns ...|{24.95, NULL}|{{1212883200000}}|                Mira|{14}|          {10}|       TWENTY WISHES|          {4}|           0|\n",
            "|{5b4aa4ead3089013...|http://www.amazon...|         Jeff Shaara|{{1211587200000}}|A novel about the...|   {NULL, 28}|{{1212883200000}}|          Ballantine|{15}|          {11}|      THE STEEL WAVE|          {2}|           0|\n",
            "|{5b4aa4ead3089013...|http://www.amazon...|    Phillip Margolin|{{1211587200000}}|                    |    {NULL, 0}|{{1212883200000}}|HarperCollins Pub...|{16}|           {0}| EXECUTIVE PRIVILEGE|          {0}|           0|\n",
            "|{5b4aa4ead3089013...|http://www.amazon...|       Jhumpa Lahiri|{{1211587200000}}|Stories of the an...|    {NULL, 0}|{{1212883200000}}|               Knopf|{17}|           {0}|  UNACCUSTOMED EARTH|          {0}|           0|\n",
            "|{5b4aa4ead3089013...|http://www.amazon...|      Joseph O'Neill|{{1211587200000}}|A Dutchman desert...|    {NULL, 0}|{{1212883200000}}|Knopf Publishing ...|{18}|           {0}|          NETHERLAND|          {0}|           0|\n",
            "|{5b4aa4ead3089013...|http://www.amazon...|        John Grisham|{{1211587200000}}|Political and leg...|    {NULL, 0}|{{1212883200000}}|Doubleday Publishing|{19}|           {0}|          THE APPEAL|          {0}|           0|\n",
            "|{5b4aa4ead3089013...|http://www.amazon...|       James Rollins|{{1211587200000}}|                    |    {NULL, 0}|{{1212883200000}}|Random House Publ...|{20}|           {0}|INDIANA JONES AND...|          {0}|           0|\n",
            "+--------------------+--------------------+--------------------+-----------------+--------------------+-------------+-----------------+--------------------+----+--------------+--------------------+-------------+------------+\n",
            "only showing top 20 rows\n",
            "\n"
          ]
        }
      ]
    },
    {
      "cell_type": "code",
      "source": [
        "df=df.drop(\"bestsellers_date\")"
      ],
      "metadata": {
        "id": "S4Ghnb5hHzv-"
      },
      "execution_count": 106,
      "outputs": []
    },
    {
      "cell_type": "code",
      "source": [
        "df=df.groupBy(\"author\").count().show()"
      ],
      "metadata": {
        "colab": {
          "base_uri": "https://localhost:8080/"
        },
        "id": "0uUxG9MeKKcD",
        "outputId": "d6f1b92a-78b8-45a1-9c80-79bbfe6e4e7a"
      },
      "execution_count": 107,
      "outputs": [
        {
          "output_type": "stream",
          "name": "stdout",
          "text": [
            "+--------------------+-----+\n",
            "|              author|count|\n",
            "+--------------------+-----+\n",
            "|          James Frey|    2|\n",
            "|    Elin Hilderbrand|   58|\n",
            "|   Sharon Kay Penman|    2|\n",
            "|         Lisa Genova|    7|\n",
            "|        Will Allison|    1|\n",
            "|   Patricia Cornwell|   64|\n",
            "|       Laurie R King|    6|\n",
            "|          Tea Obreht|    6|\n",
            "|        Sarah Dunant|    1|\n",
            "|        Tim Johnston|    1|\n",
            "|          Sara Gruen|   13|\n",
            "|Tom Clancy with P...|    9|\n",
            "|         Andre Dubus|    1|\n",
            "|        Terry Brooks|   19|\n",
            "|        Daniel Silva|   69|\n",
            "|Karen White, Beat...|    1|\n",
            "|      Jackie Collins|   14|\n",
            "|          Pat Conroy|   11|\n",
            "|          Ann B Ross|    5|\n",
            "|      Michael Savage|    3|\n",
            "+--------------------+-----+\n",
            "only showing top 20 rows\n",
            "\n"
          ]
        }
      ]
    },
    {
      "cell_type": "code",
      "source": [],
      "metadata": {
        "id": "IR8mWWxULesN"
      },
      "execution_count": 107,
      "outputs": []
    }
  ]
}