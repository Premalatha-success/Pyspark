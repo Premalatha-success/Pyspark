{
  "nbformat": 4,
  "nbformat_minor": 0,
  "metadata": {
    "colab": {
      "provenance": []
    },
    "kernelspec": {
      "name": "python3",
      "display_name": "Python 3"
    },
    "language_info": {
      "name": "python"
    }
  },
  "cells": [
    {
      "cell_type": "code",
      "execution_count": null,
      "metadata": {
        "id": "hNprybeaACKp"
      },
      "outputs": [],
      "source": [
        "from pyspark.sql import SparkSession"
      ]
    },
    {
      "cell_type": "code",
      "source": [
        "spark=SparkSession.builder.appName('RDD Example').getOrCreate()"
      ],
      "metadata": {
        "id": "yt_UFtRRAONe"
      },
      "execution_count": null,
      "outputs": []
    },
    {
      "cell_type": "code",
      "source": [
        "data=[1,2,4,1,6,7]\n",
        "rdd=spark.sparkContext.parallelize(data)"
      ],
      "metadata": {
        "id": "ctlT3-d-AUx6"
      },
      "execution_count": null,
      "outputs": []
    },
    {
      "cell_type": "code",
      "source": [
        "rdd.show()"
      ],
      "metadata": {
        "colab": {
          "base_uri": "https://localhost:8080/",
          "height": 144
        },
        "id": "21MEmQb0AiIw",
        "outputId": "1c2e7f38-4fa8-4257-e395-e1d59d48d015"
      },
      "execution_count": null,
      "outputs": [
        {
          "output_type": "error",
          "ename": "AttributeError",
          "evalue": "'RDD' object has no attribute 'show'",
          "traceback": [
            "\u001b[0;31m---------------------------------------------------------------------------\u001b[0m",
            "\u001b[0;31mAttributeError\u001b[0m                            Traceback (most recent call last)",
            "\u001b[0;32m<ipython-input-7-282ddeea0c6d>\u001b[0m in \u001b[0;36m<cell line: 0>\u001b[0;34m()\u001b[0m\n\u001b[0;32m----> 1\u001b[0;31m \u001b[0mrdd\u001b[0m\u001b[0;34m.\u001b[0m\u001b[0mshow\u001b[0m\u001b[0;34m(\u001b[0m\u001b[0;34m)\u001b[0m\u001b[0;34m\u001b[0m\u001b[0;34m\u001b[0m\u001b[0m\n\u001b[0m",
            "\u001b[0;31mAttributeError\u001b[0m: 'RDD' object has no attribute 'show'"
          ]
        }
      ]
    },
    {
      "cell_type": "code",
      "source": [
        "display(rdd)"
      ],
      "metadata": {
        "colab": {
          "base_uri": "https://localhost:8080/",
          "height": 35
        },
        "id": "iwLjEIZOAsG8",
        "outputId": "74bb2e01-e1a3-4998-8944-7ed8196b63e0"
      },
      "execution_count": null,
      "outputs": [
        {
          "output_type": "display_data",
          "data": {
            "text/plain": [
              "ParallelCollectionRDD[1] at readRDDFromFile at PythonRDD.scala:289"
            ]
          },
          "metadata": {}
        }
      ]
    },
    {
      "cell_type": "code",
      "source": [
        "rdd.collect()"
      ],
      "metadata": {
        "id": "u9oKX3jMA2Q0",
        "outputId": "91db2a4c-37f1-4899-b30c-b058bd512b5b",
        "colab": {
          "base_uri": "https://localhost:8080/"
        }
      },
      "execution_count": null,
      "outputs": [
        {
          "output_type": "execute_result",
          "data": {
            "text/plain": [
              "[1, 2, 4, 1, 6, 7]"
            ]
          },
          "metadata": {},
          "execution_count": 9
        }
      ]
    },
    {
      "cell_type": "code",
      "source": [
        "data=spark.read.csv(\"/content/CardioGoodFitness-1 (1).csv\",header=True,inferSchema=True)"
      ],
      "metadata": {
        "id": "Uw_r9OsFA4CY"
      },
      "execution_count": 13,
      "outputs": []
    },
    {
      "cell_type": "code",
      "source": [
        "rdd=data.rdd"
      ],
      "metadata": {
        "id": "bOcMOLr8CJg4"
      },
      "execution_count": 14,
      "outputs": []
    },
    {
      "cell_type": "code",
      "source": [
        "rdd.take(5)"
      ],
      "metadata": {
        "colab": {
          "base_uri": "https://localhost:8080/"
        },
        "id": "WV70QbMyCPxn",
        "outputId": "2b2fec27-9b3f-450f-8d48-6b256dbfacef"
      },
      "execution_count": 15,
      "outputs": [
        {
          "output_type": "execute_result",
          "data": {
            "text/plain": [
              "[Row(Product='TM195', Age=18, Gender='Male', Education=14, MaritalStatus='Single', Usage=3, Fitness=4, Income=29562, Miles=112),\n",
              " Row(Product='TM195', Age=19, Gender='Male', Education=15, MaritalStatus='Single', Usage=2, Fitness=3, Income=31836, Miles=75),\n",
              " Row(Product='TM195', Age=19, Gender='Female', Education=14, MaritalStatus='Partnered', Usage=4, Fitness=3, Income=30699, Miles=66),\n",
              " Row(Product='TM195', Age=19, Gender='Male', Education=12, MaritalStatus='Single', Usage=3, Fitness=3, Income=32973, Miles=85),\n",
              " Row(Product='TM195', Age=20, Gender='Male', Education=13, MaritalStatus='Partnered', Usage=4, Fitness=2, Income=35247, Miles=47)]"
            ]
          },
          "metadata": {},
          "execution_count": 15
        }
      ]
    },
    {
      "cell_type": "code",
      "source": [
        "rdd.first()"
      ],
      "metadata": {
        "colab": {
          "base_uri": "https://localhost:8080/"
        },
        "id": "M2muk-SdCRoU",
        "outputId": "ee5596d4-a7cb-4a62-ce83-b8efd311cea7"
      },
      "execution_count": 18,
      "outputs": [
        {
          "output_type": "execute_result",
          "data": {
            "text/plain": [
              "Row(Product='TM195', Age=18, Gender='Male', Education=14, MaritalStatus='Single', Usage=3, Fitness=4, Income=29562, Miles=112)"
            ]
          },
          "metadata": {},
          "execution_count": 18
        }
      ]
    },
    {
      "cell_type": "code",
      "source": [
        "rdd.third()"
      ],
      "metadata": {
        "colab": {
          "base_uri": "https://localhost:8080/",
          "height": 144
        },
        "id": "4HYIkKktChkp",
        "outputId": "7b7f5dd7-0c9a-4013-b919-c08e78f888fc"
      },
      "execution_count": 19,
      "outputs": [
        {
          "output_type": "error",
          "ename": "AttributeError",
          "evalue": "'RDD' object has no attribute 'third'",
          "traceback": [
            "\u001b[0;31m---------------------------------------------------------------------------\u001b[0m",
            "\u001b[0;31mAttributeError\u001b[0m                            Traceback (most recent call last)",
            "\u001b[0;32m<ipython-input-19-79e1c6d84ec1>\u001b[0m in \u001b[0;36m<cell line: 0>\u001b[0;34m()\u001b[0m\n\u001b[0;32m----> 1\u001b[0;31m \u001b[0mrdd\u001b[0m\u001b[0;34m.\u001b[0m\u001b[0mthird\u001b[0m\u001b[0;34m(\u001b[0m\u001b[0;34m)\u001b[0m\u001b[0;34m\u001b[0m\u001b[0;34m\u001b[0m\u001b[0m\n\u001b[0m",
            "\u001b[0;31mAttributeError\u001b[0m: 'RDD' object has no attribute 'third'"
          ]
        }
      ]
    },
    {
      "cell_type": "code",
      "source": [
        "rdd.take(2)"
      ],
      "metadata": {
        "colab": {
          "base_uri": "https://localhost:8080/"
        },
        "id": "YLr8kOP-LjTo",
        "outputId": "d7b1d088-4fac-44f6-d37f-724b1d62404e"
      },
      "execution_count": 20,
      "outputs": [
        {
          "output_type": "execute_result",
          "data": {
            "text/plain": [
              "[Row(Product='TM195', Age=18, Gender='Male', Education=14, MaritalStatus='Single', Usage=3, Fitness=4, Income=29562, Miles=112),\n",
              " Row(Product='TM195', Age=19, Gender='Male', Education=15, MaritalStatus='Single', Usage=2, Fitness=3, Income=31836, Miles=75)]"
            ]
          },
          "metadata": {},
          "execution_count": 20
        }
      ]
    },
    {
      "cell_type": "code",
      "source": [
        "rdd.collect()"
      ],
      "metadata": {
        "id": "YckOc9ZDLotL"
      },
      "execution_count": null,
      "outputs": []
    },
    {
      "cell_type": "code",
      "source": [
        "rdd.count()"
      ],
      "metadata": {
        "colab": {
          "base_uri": "https://localhost:8080/"
        },
        "id": "rR-ENtYvL8lg",
        "outputId": "adfd6cbe-9ef1-479c-bb08-e797054bf7e3"
      },
      "execution_count": 21,
      "outputs": [
        {
          "output_type": "execute_result",
          "data": {
            "text/plain": [
              "180"
            ]
          },
          "metadata": {},
          "execution_count": 21
        }
      ]
    },
    {
      "cell_type": "code",
      "source": [
        "rdd.filter(lambda x:x[0]=='TM195').count()"
      ],
      "metadata": {
        "colab": {
          "base_uri": "https://localhost:8080/"
        },
        "id": "EzUrYce5MCKw",
        "outputId": "6e161c66-a6b4-42c4-a58a-05937b83e8fe"
      },
      "execution_count": 22,
      "outputs": [
        {
          "output_type": "execute_result",
          "data": {
            "text/plain": [
              "80"
            ]
          },
          "metadata": {},
          "execution_count": 22
        }
      ]
    },
    {
      "cell_type": "code",
      "source": [
        "rdd.filter(lambda x:x[0]=='TM195').take(5)"
      ],
      "metadata": {
        "colab": {
          "base_uri": "https://localhost:8080/"
        },
        "id": "9MfR3rO5MqXt",
        "outputId": "11496f5f-e391-4bbd-a60a-63437bc0e30d"
      },
      "execution_count": 23,
      "outputs": [
        {
          "output_type": "execute_result",
          "data": {
            "text/plain": [
              "[Row(Product='TM195', Age=18, Gender='Male', Education=14, MaritalStatus='Single', Usage=3, Fitness=4, Income=29562, Miles=112),\n",
              " Row(Product='TM195', Age=19, Gender='Male', Education=15, MaritalStatus='Single', Usage=2, Fitness=3, Income=31836, Miles=75),\n",
              " Row(Product='TM195', Age=19, Gender='Female', Education=14, MaritalStatus='Partnered', Usage=4, Fitness=3, Income=30699, Miles=66),\n",
              " Row(Product='TM195', Age=19, Gender='Male', Education=12, MaritalStatus='Single', Usage=3, Fitness=3, Income=32973, Miles=85),\n",
              " Row(Product='TM195', Age=20, Gender='Male', Education=13, MaritalStatus='Partnered', Usage=4, Fitness=2, Income=35247, Miles=47)]"
            ]
          },
          "metadata": {},
          "execution_count": 23
        }
      ]
    },
    {
      "cell_type": "code",
      "source": [
        "rdd.map(lambda x: x[1]).take(5)"
      ],
      "metadata": {
        "colab": {
          "base_uri": "https://localhost:8080/"
        },
        "id": "eAgYAHohOMBk",
        "outputId": "bde195f2-0325-4c16-ba0d-a3236bf9a7ce"
      },
      "execution_count": 26,
      "outputs": [
        {
          "output_type": "execute_result",
          "data": {
            "text/plain": [
              "[18, 19, 19, 19, 20]"
            ]
          },
          "metadata": {},
          "execution_count": 26
        }
      ]
    },
    {
      "cell_type": "code",
      "source": [
        "rdd.map(lambda x: x[0]).distinct().collect()"
      ],
      "metadata": {
        "colab": {
          "base_uri": "https://localhost:8080/"
        },
        "id": "bTwUZXgBOdGA",
        "outputId": "8268996f-f66a-4ddd-b9ab-e8163cbc4f56"
      },
      "execution_count": 27,
      "outputs": [
        {
          "output_type": "execute_result",
          "data": {
            "text/plain": [
              "['TM195', 'TM498', 'TM798']"
            ]
          },
          "metadata": {},
          "execution_count": 27
        }
      ]
    },
    {
      "cell_type": "code",
      "source": [
        "rdd.flatMap(lambda x:x).take(10)"
      ],
      "metadata": {
        "colab": {
          "base_uri": "https://localhost:8080/"
        },
        "id": "fQO-Ew9sPAIo",
        "outputId": "fb3ea3a7-6411-4a53-cb65-f00a3c796996"
      },
      "execution_count": 30,
      "outputs": [
        {
          "output_type": "execute_result",
          "data": {
            "text/plain": [
              "['TM195', 18, 'Male', 14, 'Single', 3, 4, 29562, 112, 'TM195']"
            ]
          },
          "metadata": {},
          "execution_count": 30
        }
      ]
    },
    {
      "cell_type": "code",
      "source": [
        "grouped_ages_rdd=rdd.map(lambda x: (x[0], int(x[1]))).groupByKey()\n",
        "for key, values in grouped_ages_rdd.take(5):\n",
        "    print(key, list(values))"
      ],
      "metadata": {
        "colab": {
          "base_uri": "https://localhost:8080/"
        },
        "id": "49kHtfbLSxXJ",
        "outputId": "5f6e99eb-6730-480b-b92f-38373243c27f"
      },
      "execution_count": 32,
      "outputs": [
        {
          "output_type": "stream",
          "name": "stdout",
          "text": [
            "TM195 [18, 19, 19, 19, 20, 20, 21, 21, 21, 21, 22, 22, 22, 22, 23, 23, 23, 23, 23, 23, 23, 23, 24, 24, 24, 24, 24, 25, 25, 25, 25, 25, 25, 25, 26, 26, 26, 26, 26, 26, 26, 27, 27, 27, 28, 28, 28, 28, 28, 28, 29, 29, 29, 30, 30, 31, 31, 32, 32, 33, 33, 34, 34, 35, 35, 35, 36, 37, 38, 38, 38, 38, 39, 40, 41, 43, 44, 46, 47, 50]\n",
            "TM498 [19, 20, 20, 20, 21, 21, 21, 23, 23, 23, 23, 23, 23, 23, 24, 24, 24, 25, 25, 25, 25, 25, 25, 25, 25, 25, 25, 25, 26, 26, 26, 27, 29, 30, 30, 31, 31, 31, 32, 32, 33, 33, 33, 33, 33, 34, 34, 34, 35, 35, 35, 35, 37, 38, 38, 40, 40, 40, 45, 48]\n",
            "TM798 [22, 22, 22, 23, 23, 23, 24, 24, 24, 24, 25, 25, 25, 25, 25, 25, 25, 26, 26, 27, 27, 27, 28, 28, 28, 29, 29, 30, 30, 30, 31, 33, 34, 35, 38, 40, 42, 45, 47, 48]\n"
          ]
        }
      ]
    },
    {
      "cell_type": "code",
      "source": [
        "rdd.filter(lambda x:x[7]>70000).take(5)"
      ],
      "metadata": {
        "colab": {
          "base_uri": "https://localhost:8080/"
        },
        "id": "_f9qv_bBTVXz",
        "outputId": "33ce611e-2df0-482f-9065-45c766b89e5f"
      },
      "execution_count": 37,
      "outputs": [
        {
          "output_type": "execute_result",
          "data": {
            "text/plain": [
              "[Row(Product='TM798', Age=25, Gender='Male', Education=18, MaritalStatus='Partnered', Usage=6, Fitness=4, Income=70966, Miles=180),\n",
              " Row(Product='TM798', Age=25, Gender='Male', Education=18, MaritalStatus='Partnered', Usage=6, Fitness=5, Income=75946, Miles=240),\n",
              " Row(Product='TM798', Age=25, Gender='Male', Education=20, MaritalStatus='Partnered', Usage=4, Fitness=5, Income=74701, Miles=170),\n",
              " Row(Product='TM798', Age=27, Gender='Male', Education=16, MaritalStatus='Partnered', Usage=4, Fitness=5, Income=83416, Miles=160),\n",
              " Row(Product='TM798', Age=27, Gender='Male', Education=18, MaritalStatus='Single', Usage=4, Fitness=3, Income=88396, Miles=100)]"
            ]
          },
          "metadata": {},
          "execution_count": 37
        }
      ]
    },
    {
      "cell_type": "code",
      "source": [
        "rdd.countByKey()"
      ],
      "metadata": {
        "colab": {
          "base_uri": "https://localhost:8080/"
        },
        "id": "u6dOTNzPTvIh",
        "outputId": "30b855ba-ab0b-446e-841a-27851ab2cd1e"
      },
      "execution_count": 38,
      "outputs": [
        {
          "output_type": "execute_result",
          "data": {
            "text/plain": [
              "defaultdict(int, {'TM195': 80, 'TM498': 60, 'TM798': 40})"
            ]
          },
          "metadata": {},
          "execution_count": 38
        }
      ]
    },
    {
      "cell_type": "code",
      "source": [
        "rdd.map(lambda x:x[7]).max()"
      ],
      "metadata": {
        "colab": {
          "base_uri": "https://localhost:8080/"
        },
        "id": "Lvuw7lfPUSmj",
        "outputId": "33312be7-962c-4487-d3fc-4b2d3c4af92c"
      },
      "execution_count": 39,
      "outputs": [
        {
          "output_type": "execute_result",
          "data": {
            "text/plain": [
              "104581"
            ]
          },
          "metadata": {},
          "execution_count": 39
        }
      ]
    },
    {
      "cell_type": "code",
      "source": [
        "rdd.map(lambda x: x[\"Income\"]).sum()"
      ],
      "metadata": {
        "colab": {
          "base_uri": "https://localhost:8080/"
        },
        "id": "2bLCKam6VL4N",
        "outputId": "9f342472-4ef3-408f-aa69-efe6edfb2986"
      },
      "execution_count": 40,
      "outputs": [
        {
          "output_type": "execute_result",
          "data": {
            "text/plain": [
              "9669524"
            ]
          },
          "metadata": {},
          "execution_count": 40
        }
      ]
    },
    {
      "cell_type": "code",
      "source": [
        "rdd.map(lambda x: x[\"Income\"]).top(3)"
      ],
      "metadata": {
        "colab": {
          "base_uri": "https://localhost:8080/"
        },
        "id": "4XQyeGi_Vf0J",
        "outputId": "8392f176-44f6-4edc-e1ca-6ee55b5faf21"
      },
      "execution_count": 41,
      "outputs": [
        {
          "output_type": "execute_result",
          "data": {
            "text/plain": [
              "[104581, 104581, 103336]"
            ]
          },
          "metadata": {},
          "execution_count": 41
        }
      ]
    },
    {
      "cell_type": "code",
      "source": [
        "rdd.map(lambda x: x[7]).takeOrdered(3, key=lambda x: -x)"
      ],
      "metadata": {
        "colab": {
          "base_uri": "https://localhost:8080/"
        },
        "id": "6mdOYsz1Vw2l",
        "outputId": "a2650599-ba41-4551-918d-5604bb4c614f"
      },
      "execution_count": 42,
      "outputs": [
        {
          "output_type": "execute_result",
          "data": {
            "text/plain": [
              "[104581, 104581, 103336]"
            ]
          },
          "metadata": {},
          "execution_count": 42
        }
      ]
    },
    {
      "cell_type": "code",
      "source": [
        "rdd.map(lambda x: x[7]).takeOrdered(3, key=lambda x: x)"
      ],
      "metadata": {
        "colab": {
          "base_uri": "https://localhost:8080/"
        },
        "id": "Fz1dC8emWTpW",
        "outputId": "d156868a-af6a-447a-baf9-a50215c6211b"
      },
      "execution_count": 43,
      "outputs": [
        {
          "output_type": "execute_result",
          "data": {
            "text/plain": [
              "[29562, 30699, 31836]"
            ]
          },
          "metadata": {},
          "execution_count": 43
        }
      ]
    },
    {
      "cell_type": "code",
      "source": [
        "Final Assessment:(Nexus)"
      ],
      "metadata": {
        "id": "z3SBXiOoW3w-"
      },
      "execution_count": null,
      "outputs": []
    }
  ]
}