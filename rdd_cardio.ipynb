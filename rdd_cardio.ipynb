{
  "nbformat": 4,
  "nbformat_minor": 0,
  "metadata": {
    "colab": {
      "provenance": []
    },
    "kernelspec": {
      "name": "python3",
      "display_name": "Python 3"
    },
    "language_info": {
      "name": "python"
    }
  },
  "cells": [
    {
      "cell_type": "code",
      "source": [
        "from pyspark.sql import SparkSession\n",
        "\n",
        "file_path = \"/content/CardioGoodFitness-1 (1).csv\"\n",
        "data = spark.read.csv(file_path, header=True, inferSchema=True)\n",
        "\n",
        "# Convert DataFrame to RDD\n",
        "rdd = data.rdd\n",
        "\n",
        "# Display first 5 rows of the RDD\n",
        "rdd.take(5)\n"
      ],
      "metadata": {
        "colab": {
          "base_uri": "https://localhost:8080/"
        },
        "id": "-YABvXBMpOS1",
        "outputId": "114f52e0-59c0-48d7-cbcd-9a70be1f5eea"
      },
      "execution_count": 9,
      "outputs": [
        {
          "output_type": "execute_result",
          "data": {
            "text/plain": [
              "[Row(Product='TM195', Age=18, Gender='Male', Education=14, MaritalStatus='Single', Usage=3, Fitness=4, Income=29562, Miles=112),\n",
              " Row(Product='TM195', Age=19, Gender='Male', Education=15, MaritalStatus='Single', Usage=2, Fitness=3, Income=31836, Miles=75),\n",
              " Row(Product='TM195', Age=19, Gender='Female', Education=14, MaritalStatus='Partnered', Usage=4, Fitness=3, Income=30699, Miles=66),\n",
              " Row(Product='TM195', Age=19, Gender='Male', Education=12, MaritalStatus='Single', Usage=3, Fitness=3, Income=32973, Miles=85),\n",
              " Row(Product='TM195', Age=20, Gender='Male', Education=13, MaritalStatus='Partnered', Usage=4, Fitness=2, Income=35247, Miles=47)]"
            ]
          },
          "metadata": {},
          "execution_count": 9
        }
      ]
    },
    {
      "cell_type": "code",
      "source": [
        "def create_profile(row):\n",
        "    if row.Age < 30 and row.Income < 50000:\n",
        "        profile = \"Young Low-Income\"\n",
        "    elif row.Age < 30 and row.Income >= 50000:\n",
        "        profile = \"Young High-Income\"\n",
        "    elif row.Age >= 30 and row.Income < 50000:\n",
        "        profile = \"Adult Low-Income\"\n",
        "    else:\n",
        "        profile = \"Adult High-Income\"\n",
        "    return (row.Product, row.Age, row.Income, row.Miles, profile)\n",
        "\n",
        "# Create profiles using map()\n",
        "profile_rdd = rdd.map(create_profile)\n",
        "\n",
        "# Show sample profiles\n",
        "profile_rdd.take(5)\n"
      ],
      "metadata": {
        "colab": {
          "base_uri": "https://localhost:8080/"
        },
        "id": "3cPEKRWPtEhl",
        "outputId": "882203a3-1f6b-42a5-bddb-3bed7222972b"
      },
      "execution_count": 10,
      "outputs": [
        {
          "output_type": "execute_result",
          "data": {
            "text/plain": [
              "[('TM195', 18, 29562, 112, 'Young Low-Income'),\n",
              " ('TM195', 19, 31836, 75, 'Young Low-Income'),\n",
              " ('TM195', 19, 30699, 66, 'Young Low-Income'),\n",
              " ('TM195', 19, 32973, 85, 'Young Low-Income'),\n",
              " ('TM195', 20, 35247, 47, 'Young Low-Income')]"
            ]
          },
          "metadata": {},
          "execution_count": 10
        }
      ]
    },
    {
      "cell_type": "code",
      "source": [
        "grouped_rdd = profile_rdd.map(lambda x: (x[4], (x[3], 1)))\\\n",
        "                         .reduceByKey(lambda a, b: (a[0] + b[0], a[1] + b[1]))\\\n",
        "                         .mapValues(lambda x: x[0] / x[1])\n",
        "\n",
        "# Display results\n",
        "grouped_rdd.collect()\n"
      ],
      "metadata": {
        "colab": {
          "base_uri": "https://localhost:8080/"
        },
        "id": "Z9k3blJttIb4",
        "outputId": "d6c21210-27c3-4a0a-c464-b910751777e4"
      },
      "execution_count": 11,
      "outputs": [
        {
          "output_type": "execute_result",
          "data": {
            "text/plain": [
              "[('Young Low-Income', 89.93055555555556),\n",
              " ('Young High-Income', 122.48780487804878),\n",
              " ('Adult Low-Income', 90.0),\n",
              " ('Adult High-Income', 108.71428571428571)]"
            ]
          },
          "metadata": {},
          "execution_count": 11
        }
      ]
    },
    {
      "cell_type": "code",
      "source": [
        "high_value_rdd = profile_rdd.filter(lambda x: x[2] > 60000 and x[3] > 200)\n",
        "\n",
        "# Display high-value customers\n",
        "high_value_rdd.collect()\n"
      ],
      "metadata": {
        "colab": {
          "base_uri": "https://localhost:8080/"
        },
        "id": "c6SrtoPbtO7v",
        "outputId": "6012fb85-a4e3-4ef9-8b62-48d87d4a0ea8"
      },
      "execution_count": 12,
      "outputs": [
        {
          "output_type": "execute_result",
          "data": {
            "text/plain": [
              "[('TM798', 25, 75946, 240, 'Young High-Income'),\n",
              " ('TM798', 29, 85906, 300, 'Young High-Income'),\n",
              " ('TM798', 30, 90886, 280, 'Adult High-Income'),\n",
              " ('TM798', 31, 89641, 260, 'Adult High-Income'),\n",
              " ('TM798', 35, 92131, 360, 'Adult High-Income')]"
            ]
          },
          "metadata": {},
          "execution_count": 12
        }
      ]
    },
    {
      "cell_type": "code",
      "source": [],
      "metadata": {
        "id": "lICP5il4tSCz"
      },
      "execution_count": null,
      "outputs": []
    }
  ]
}